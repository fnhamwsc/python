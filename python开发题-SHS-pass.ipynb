{
 "cells": [
  {
   "cell_type": "code",
   "execution_count": 1,
   "metadata": {},
   "outputs": [
    {
     "data": {
      "text/plain": [
       "2"
      ]
     },
     "execution_count": 1,
     "metadata": {},
     "output_type": "execute_result"
    }
   ],
   "source": [
    "'''校验和'''\n",
    "'''\n",
    "checksum 是扫描一个数据包并返回一个数值的一种算法。其思路在于,如果数据包被修改过,那么,checksum 也会立即变化。所以,checksum 常常用于侦查数据传输错误,证\n",
    "实文档内容的完整性和其他需要检查数据不被修改的场合。\n",
    "在本题中,你将实现一个 checksum 算法即 Quicksum。\n",
    "一个 Quicksum 数据包仅允许包含大写字母和空格,它通常是由一个大写字母开始和结束。然而,空格和字母可以出现在其他的位置中,连续的空格也是允许的。\n",
    "Quicksum 是一行字符串(数据包)中每个字符的位置与该字符的值的乘积之和。空格的值是 0,字母的值等于它在字母表中的位置。所以,A 的值是 1,B 的值是 2,依此类推,Z 的值是 26。下面两个例子是求“ACM”和“MID CENTRAL”的 Quicksum:\n",
    "ACM: 1*1 + 2*3 + 3*13 = 46\n",
    "MID CENTRAL: 1*13 + 2*9 + 3*4 + 4*0 + 5*3 + 6*5 + 7*14 + 8*20 + 9*18 + 10*1 +11*12 = 650\n",
    "2.输入描述\n",
    "输入数据包含一个或多个数据包,输入数据以“#”结束。每个数据包占一行,不能以空格开始或结束,\n",
    "包含 1~255 个字符。\n",
    "3.输出描述\n",
    "对于每个数据包,在每一行上输出它的 Quicksum。\n",
    "'''\n",
    "#大写字母中在表中是从65开始，减掉64刚好是大写字母在表中的位置。\n",
    "ord('B')-64\n",
    "\n",
    "ord(s)：获得字符 s 的 ASCII 值\n",
    "chr(s)：获得数字 s 对应的字母"
   ]
  },
  {
   "cell_type": "code",
   "execution_count": 14,
   "metadata": {},
   "outputs": [
    {
     "name": "stdout",
     "output_type": "stream",
     "text": [
      "65\n",
      "90\n",
      "32\n"
     ]
    }
   ],
   "source": [
    "print(ord('A'))\n",
    "print(ord('Z'))\n",
    "print(ord(' '))"
   ]
  },
  {
   "cell_type": "code",
   "execution_count": 15,
   "metadata": {},
   "outputs": [
    {
     "name": "stdout",
     "output_type": "stream",
     "text": [
      "0\n",
      ":\n"
     ]
    }
   ],
   "source": [
    "print(chr(48))\n",
    "print(chr(58))"
   ]
  },
  {
   "cell_type": "code",
   "execution_count": 17,
   "metadata": {},
   "outputs": [
    {
     "name": "stdout",
     "output_type": "stream",
     "text": [
      "只能输入大写字母和空格电脑电脑\n",
      "请重新输入\n"
     ]
    }
   ],
   "source": [
    "n=input(\"只能输入大写字母和空格\")\n",
    "for i in n:\n",
    "    if ord(i) in range(65,91) or ord(i) in range(32):\n",
    "        pass\n",
    "    else:\n",
    "        print(\"请重新输入\")\n",
    "        break"
   ]
  },
  {
   "cell_type": "code",
   "execution_count": 18,
   "metadata": {},
   "outputs": [
    {
     "name": "stdout",
     "output_type": "stream",
     "text": [
      "请输入\n",
      "只能输入大写字母和空格电脑电脑#\n",
      "只能输入大写字母和空格电脑电脑:1*21418+2*32957+3*36691+4*20773+5*22759+6*20825+7*23319+8*27533+9*21580+10*31290+11*26620+12*29941+13*32977+14*29941+15*32977=3404501\n"
     ]
    }
   ],
   "source": [
    "text = \"\"\n",
    "line_text = \"\"\n",
    "print(\"请输入\")\n",
    "while True:\n",
    "    line_text = input().upper()\n",
    "    if (line_text[-1]==\"#\"):\n",
    "        text += line_text.replace(\"#\", \"\").strip()\n",
    "        break\n",
    "    text += line_text.strip() + '\\n'\n",
    "#print(text)\n",
    "list1 = text.split(\"\\n\")\n",
    "#print (list1)\n",
    "for i in range(len(list1)):\n",
    "    n1 = list1[i]\n",
    "    sumn1=0\n",
    "    print(n1,end=':')\n",
    "    for j in range(len(n1)):\n",
    "        sum0=ord(n1[j])-64\n",
    "        if (sum0==-32):\n",
    "            sum0=0\n",
    "        if (j==len(n1)-1):\n",
    "            print(str(j+1)+\"*\"+str(sum0),end='')\n",
    "        else:\n",
    "            print(str(j+1)+\"*\"+str(sum0),end='+')\n",
    "        sumn1 +=(j+1)*(sum0)\n",
    "    print (\"=\",end='') \n",
    "    print (sumn1)    "
   ]
  },
  {
   "cell_type": "code",
   "execution_count": 37,
   "metadata": {},
   "outputs": [
    {
     "name": "stdout",
     "output_type": "stream",
     "text": [
      "acm\n",
      "ACM\n",
      "MID CENTRAL#\n",
      "ACM:1*1+2*3+3*13=46\n",
      "ACM:1*1+2*3+3*13=46\n",
      "MID CENTRAL:1*13+2*9+3*4+4*0+5*3+6*5+7*14+8*20+9*18+10*1+11*12=650\n"
     ]
    }
   ],
   "source": [
    "text = \"\"\n",
    "line_text = \"\"\n",
    "while True:\n",
    "    line_text = input().strip().upper()\n",
    "    if (line_text[-1]==\"#\"):\n",
    "        text += line_text.replace(\"#\", \"\")\n",
    "        break\n",
    "    text += line_text + '\\n'\n",
    "list1 = text.split(\"\\n\")\n",
    "for i in range(len(list1)):\n",
    "    n1 = list1[i]\n",
    "    sumn1=0\n",
    "    print(n1,end=':')\n",
    "    for j in range(len(n1)):\n",
    "        sum0=ord(n1[j])-64\n",
    "        if (sum0==-32):\n",
    "            sum0=0\n",
    "        if (j==len(n1)-1):\n",
    "            print(str(j+1)+\"*\"+str(sum0),end='')\n",
    "        else:\n",
    "            print(str(j+1)+\"*\"+str(sum0),end='+')\n",
    "        sumn1 +=(j+1)*(sum0)\n",
    "    print (\"=\",end='') \n",
    "    print (sumn1)    "
   ]
  },
  {
   "cell_type": "code",
   "execution_count": 35,
   "metadata": {},
   "outputs": [
    {
     "name": "stdout",
     "output_type": "stream",
     "text": [
      "3\n",
      "a->c\n",
      "a->b\n",
      "c->b\n",
      "a->c\n",
      "b->a\n",
      "b->c\n",
      "a->c\n"
     ]
    }
   ],
   "source": [
    "'''汉诺塔'''\n",
    "def hanoi(n, A, B, C):\n",
    "    if n == 1:\n",
    "        print('%s->%s'%(A,C))\n",
    "    else:\n",
    "        hanoi(n - 1, A, C, B)\n",
    "        print('%s->%s'%(A,C))\n",
    "        hanoi(n - 1, B, A, C)\n",
    "        \n",
    "n = int(input(''))\n",
    "hanoi(n, \"a\", \"b\", \"c\")\n"
   ]
  },
  {
   "cell_type": "code",
   "execution_count": 33,
   "metadata": {},
   "outputs": [
    {
     "name": "stdout",
     "output_type": "stream",
     "text": [
      "100 400\n",
      "153 370 371\n"
     ]
    }
   ],
   "source": [
    "'''3.\t题目名称：水仙花数'''\n",
    "def f(n):\n",
    "    N = list(map(int,str(n)))\n",
    "    if n==N[0]**3+N[1]**3+N[2]**3:\n",
    "        return True\n",
    "    else:\n",
    "        return False\n",
    "n1,n2 = list(map(int,input().split()))\n",
    "RES=[]\n",
    "for n in range(n1,n2+1):\n",
    "    if f(n):\n",
    "        RES.append(n)\n",
    "print(' '.join(list(map(str,RES))))"
   ]
  },
  {
   "cell_type": "code",
   "execution_count": 26,
   "metadata": {},
   "outputs": [
    {
     "name": "stdout",
     "output_type": "stream",
     "text": [
      "5 3\n",
      "5 4 3 2 1\n",
      "3 5 4\n",
      "3 5 4 1 2\n"
     ]
    }
   ],
   "source": [
    "'''1.\t题目名称：批阅奏章'''\n",
    "p,q = list(map(int,input().split(' ')))\n",
    "P = list(map(int, input().split(' ')))\n",
    "Q = list(map(int, input().split(' ')))\n",
    "RES=[]\n",
    "for i in Q:\n",
    "    cnt = P.count(i)\n",
    "    RES.extend([i]*cnt)\n",
    "    while i in P:\n",
    "        P.remove(i)\n",
    "P.sort()\n",
    "RES.extend(P)\n",
    "print(' '.join(list(map(str,RES))))"
   ]
  },
  {
   "cell_type": "code",
   "execution_count": 29,
   "metadata": {},
   "outputs": [
    {
     "data": {
      "text/plain": [
       "[1, 2, 1, 1, 1, 1]"
      ]
     },
     "execution_count": 29,
     "metadata": {},
     "output_type": "execute_result"
    }
   ],
   "source": [
    "aa=[1,2,3]\n",
    "aa.remove(3)\n",
    "aa.extend([1]*4)\n",
    "aa"
   ]
  },
  {
   "cell_type": "code",
   "execution_count": 22,
   "metadata": {},
   "outputs": [
    {
     "name": "stdout",
     "output_type": "stream",
     "text": [
      "1 2 3 4 5\n",
      "7\n",
      "2 5\n"
     ]
    }
   ],
   "source": [
    "'''2.\t题目名称：报价'''\n",
    "P = list(map(int,input().split(' ')))\n",
    "n = int(input())\n",
    "n1,n2 = 0,0\n",
    "for i in range(len(P)-1):\n",
    "    n1 = P[i]\n",
    "    for j in range(i+1, len(P)):\n",
    "        if n1+P[j]==n:\n",
    "            n2=P[j]\n",
    "            break\n",
    "    if n2>0:\n",
    "        break\n",
    "print('%d %d'%(min(n1,n2),max(n1,n2)))"
   ]
  },
  {
   "cell_type": "code",
   "execution_count": 16,
   "metadata": {},
   "outputs": [
    {
     "name": "stdout",
     "output_type": "stream",
     "text": [
      "a=10\n",
      "b=20\n",
      "a=20\n",
      "b=10\n"
     ]
    }
   ],
   "source": [
    "'''9.\t题目名称：交换数值'''\n",
    "a = int(input().split('=')[1])\n",
    "b = int(input().split('=')[1])\n",
    "a,b = b,a\n",
    "print('a=%d'%a)\n",
    "print('b=%d'%b)"
   ]
  },
  {
   "cell_type": "code",
   "execution_count": 15,
   "metadata": {},
   "outputs": [
    {
     "name": "stdout",
     "output_type": "stream",
     "text": [
      "2\n",
      "aa 1 2 5.555\n",
      "bb 2 3 42\n",
      "bb 2 3 42.00\n",
      "aa 1 2 5.55\n"
     ]
    }
   ],
   "source": [
    "'''7.\t题目名称：员工排序'''\n",
    "n = int(input())\n",
    "P = []\n",
    "for i in range(n):\n",
    "    _p = input().split(' ')\n",
    "    P.append([_p[0],int(_p[1]),int(_p[2]),float(_p[3])])\n",
    "P.sort(key=lambda x:(-x[1],x[3],-x[2]))\n",
    "for p in P:\n",
    "    print('%s %d %d %.2f'%(p[0],p[1],p[2],p[3]))"
   ]
  },
  {
   "cell_type": "code",
   "execution_count": 73,
   "metadata": {},
   "outputs": [
    {
     "name": "stdout",
     "output_type": "stream",
     "text": [
      "9\n",
      "true\n"
     ]
    }
   ],
   "source": [
    "'''12.\t题目名称：丑数'''\n",
    "n = int(input())\n",
    "def f(n):\n",
    "    if n<1:\n",
    "        return False\n",
    "    PN = set([])\n",
    "    while n>1:\n",
    "        for i in range(2,n+1):\n",
    "            if n%i==0:\n",
    "                n=n//i\n",
    "                PN.add(i)\n",
    "                break\n",
    "\n",
    "    for i in [2,3,5]:\n",
    "        if i in PN:\n",
    "            PN.remove(i)\n",
    "    if len(PN)>0:\n",
    "        return False\n",
    "    else:\n",
    "        return True\n",
    "if f(n):\n",
    "    print('true')\n",
    "else:\n",
    "    print('false')"
   ]
  },
  {
   "cell_type": "code",
   "execution_count": 39,
   "metadata": {},
   "outputs": [
    {
     "name": "stdout",
     "output_type": "stream",
     "text": [
      "abcdefg1111\n",
      "1111gggg\n",
      "1111\n"
     ]
    }
   ],
   "source": [
    "'''4.\t题目名称：字符串查找和比较'''\n",
    "s1 = input().strip()\n",
    "s2 = input().strip()\n",
    "\n",
    "if len(s1)>len(s2):\n",
    "    s2,s1 = s1,s2\n",
    "lmax = 0\n",
    "res = ''\n",
    "for i in range(len(s1)):\n",
    "    j=len(s1)\n",
    "    while j>i:\n",
    "        _str = s1[i:j]\n",
    "        if s2.find(_str)>=0:\n",
    "            if len(_str)>len(res):\n",
    "                res=_str\n",
    "        j-=1\n",
    "\n",
    "\n",
    "print(res)"
   ]
  },
  {
   "cell_type": "code",
   "execution_count": 29,
   "metadata": {},
   "outputs": [
    {
     "name": "stdout",
     "output_type": "stream",
     "text": [
      "8\n",
      "false\n"
     ]
    }
   ],
   "source": [
    "'''5.\t题目名称：尼姆博弈'''\n",
    "n = int(input().strip())\n",
    "\n",
    "def f(n):\n",
    "    if n%4==0:\n",
    "        return False\n",
    "    else:\n",
    "        return True\n",
    "if f(n):\n",
    "    print('true')\n",
    "else:\n",
    "    print('false')"
   ]
  },
  {
   "cell_type": "code",
   "execution_count": 28,
   "metadata": {},
   "outputs": [
    {
     "name": "stdout",
     "output_type": "stream",
     "text": [
      "III\n"
     ]
    },
    {
     "data": {
      "text/plain": [
       "3"
      ]
     },
     "execution_count": 28,
     "metadata": {},
     "output_type": "execute_result"
    }
   ],
   "source": [
    "'''罗马数字'''\n",
    "d_rm={'I':1, 'V':5, 'X':10, 'L':50, 'C':100, 'D':500, 'M':1000}\n",
    "in_rm = input().strip()\n",
    "def rm2num(in_rm):\n",
    "    if not in_rm:\n",
    "        return 0\n",
    "    if len(in_rm)==1:\n",
    "        return d_rm.get(in_rm, 0)\n",
    "    res = 0\n",
    "    for i in range(len(in_rm)-1):\n",
    "        n1 = d_rm.get(in_rm[i],0)\n",
    "        n2 = d_rm.get(in_rm[i+1],0)\n",
    "        if n1<n2:\n",
    "            res-=n1\n",
    "        else:\n",
    "            res+=n1\n",
    "    res+=n2\n",
    "    return res\n",
    "print(rm2num(in_rm))"
   ]
  },
  {
   "cell_type": "code",
   "execution_count": 9,
   "metadata": {},
   "outputs": [
    {
     "name": "stdout",
     "output_type": "stream",
     "text": [
      "4 5\n",
      "5 4 3 2\n",
      "1 5 4 5\n",
      "KILL_PPID {5}\n",
      "KILL_ALL set()\n",
      "_p_id 5\n",
      "KILL_ALL {5}\n",
      "_c_ids [4, 2]\n",
      "_p_id 2\n",
      "KILL_ALL {2, 4, 5}\n",
      "_c_ids []\n",
      "_p_id 4\n",
      "KILL_ALL {2, 4, 5}\n",
      "_c_ids [3]\n",
      "_p_id 3\n",
      "KILL_ALL {2, 3, 4, 5}\n",
      "_c_ids []\n",
      "2 3 4 5\n"
     ]
    }
   ],
   "source": [
    "'''进程'''\n",
    "n,k = map(int, input().split(' '))\n",
    "PID = list(map(int, input().split(' ')))\n",
    "PPID = list(map(int, input().split(' ')))\n",
    "\n",
    "d_ppid = {}\n",
    "for i in range(len(PPID)):\n",
    "    _ppid = PPID[i]\n",
    "    #print('_ppid = PPID[i]',_ppid)\n",
    "    _pids = d_ppid.get(_ppid, [])\n",
    "    #print('_pids = d_ppid.get(_ppid, [])',_pids)\n",
    "    _pids.append(PID[i])\n",
    "    #print('_pids.append(PID[i])',_pids)\n",
    "    d_ppid[_ppid] = _pids\n",
    "    #print('d_ppid[_ppid] = _pids',d_ppid[_ppid])\n",
    "    #print('d_ppid',d_ppid)\n",
    "\n",
    "KILL_PPID=set([k])\n",
    "KILL_ALL=set([])\n",
    "print('KILL_PPID',KILL_PPID)\n",
    "print('KILL_ALL',KILL_ALL)\n",
    "while len(KILL_PPID)>0:\n",
    "    _p_id = KILL_PPID.pop()\n",
    "    print('_p_id',_p_id)\n",
    "    KILL_ALL.add(_p_id)\n",
    "    print('KILL_ALL',KILL_ALL)\n",
    "    _c_ids = d_ppid.get(_p_id, [])\n",
    "    print('_c_ids',_c_ids)\n",
    "    for _cid in _c_ids:\n",
    "        KILL_PPID.add(_cid)\n",
    "        KILL_ALL.add(_cid)\n",
    "    \n",
    "\n",
    "res = list(KILL_ALL)\n",
    "res.sort()\n",
    "res = list(map(str, res))\n",
    "print(' '.join(res))\n",
    "\n",
    "    "
   ]
  },
  {
   "cell_type": "code",
   "execution_count": 24,
   "metadata": {},
   "outputs": [
    {
     "name": "stdout",
     "output_type": "stream",
     "text": [
      "[6, 28, 496, 8128]\n"
     ]
    }
   ],
   "source": [
    "'''第三题：完数。一个数如果恰好等于它的因子之和，这个数就称为\"完数\"。例如6=1＋2＋3。编程找出10000以内的所有完数。'''\n",
    "Mx = 10000\n",
    "RES = []\n",
    "for i in range(2, Mx):\n",
    "    _sum = 0\n",
    "    for j in range(1, i//2+1):\n",
    "        if i%j==0:\n",
    "            _sum+=j\n",
    "    if _sum==i:\n",
    "        RES.append(i)\n",
    "print(RES)"
   ]
  },
  {
   "cell_type": "code",
   "execution_count": null,
   "metadata": {},
   "outputs": [],
   "source": []
  },
  {
   "cell_type": "code",
   "execution_count": null,
   "metadata": {},
   "outputs": [],
   "source": []
  },
  {
   "cell_type": "code",
   "execution_count": 18,
   "metadata": {},
   "outputs": [
    {
     "name": "stdout",
     "output_type": "stream",
     "text": [
      "staticmethod\n",
      "staticmethod\n"
     ]
    }
   ],
   "source": [
    "'''静态方法：直接使用类调用，也可以使用实例调用。参数无要求'''\n",
    "class Test():\n",
    "    @staticmethod\n",
    "    def f():\n",
    "        return('staticmethod')\n",
    "        \n",
    "## 直接类调用\n",
    "print( Test.f() )\n",
    "## 实例调用\n",
    "t1 = Test()\n",
    "print( t1.f() )"
   ]
  },
  {
   "cell_type": "code",
   "execution_count": 12,
   "metadata": {},
   "outputs": [
    {
     "name": "stdout",
     "output_type": "stream",
     "text": [
      "classmethod\n",
      "classmethod\n"
     ]
    }
   ],
   "source": [
    "'''类方法：直接使用类调用，也可以使用实例调用，需要带参数，一般用cls'''\n",
    "class Test():\n",
    "    @classmethod\n",
    "    def f(cls):\n",
    "        return('classmethod')\n",
    "        \n",
    "## 直接类调用\n",
    "print( Test.f() )\n",
    "## 实例调用\n",
    "t1 = Test()\n",
    "print( t1.f() )"
   ]
  },
  {
   "cell_type": "code",
   "execution_count": 17,
   "metadata": {},
   "outputs": [
    {
     "name": "stdout",
     "output_type": "stream",
     "text": [
      "instancemethod\n"
     ]
    }
   ],
   "source": [
    "'''实例方法：不能直接使用类调用，只能使用实例调用。定义时需要带参数，一般用self'''\n",
    "class Test():\n",
    "    def f(s):\n",
    "        return('instancemethod')\n",
    "        \n",
    "# ## 直接类调用\n",
    "# print( Test.f() )\n",
    "## 实例调用\n",
    "t1 = Test()\n",
    "print( t1.f() )"
   ]
  },
  {
   "cell_type": "code",
   "execution_count": null,
   "metadata": {},
   "outputs": [],
   "source": []
  },
  {
   "cell_type": "code",
   "execution_count": 27,
   "metadata": {},
   "outputs": [
    {
     "name": "stdout",
     "output_type": "stream",
     "text": [
      "80：良好\n",
      "91：优秀\n",
      "35：不及格\n",
      "26：不及格\n",
      "7：不及格\n",
      "100：优秀\n",
      "79：及格\n",
      "3：不及格\n",
      "27：不及格\n",
      "61：及格\n"
     ]
    }
   ],
   "source": [
    "'''定义一个函数f(n)，n代表分数，对分数进行分档。n>=90，优秀；80<=n<90，良好；60<=n<80，及格；n<60，不及格'''\n",
    "def f(n):\n",
    "    if n>=90:\n",
    "        return '优秀'\n",
    "    elif n>=80:\n",
    "        return '良好'\n",
    "    elif n>=60:\n",
    "        return '及格'\n",
    "    else:\n",
    "        return '不及格'\n",
    "\n",
    "## 使用随机测试函数功能（以下不是本次作业要求内容） 可直接运行： print(f(80))  进行测试\n",
    "import random\n",
    "for i in range(10):\n",
    "    n = random.randint(0, 100)\n",
    "    print('%d：%s'%(n,f(n)))"
   ]
  },
  {
   "cell_type": "code",
   "execution_count": 8,
   "metadata": {},
   "outputs": [],
   "source": [
    "### 第三题：完数。一个数如果恰好等于它的因子之和，这个数就称为\"完数\"。例如6=1＋2＋3。编程找出10000以内的所有完数。"
   ]
  },
  {
   "cell_type": "markdown",
   "metadata": {},
   "source": [
    "### n>=90，优秀；80<=n<90，良好；60<=n<80，及格；n<60，不及格"
   ]
  },
  {
   "cell_type": "code",
   "execution_count": null,
   "metadata": {},
   "outputs": [],
   "source": [
    "def f(n):\n",
    "    if n>=90:\n",
    "        return('优秀')\n",
    "    elif n>=80:\n",
    "        return('良好')\n",
    "    elif n>=60:\n",
    "        return('及格')\n",
    "    else:\n",
    "        return('不及格')"
   ]
  },
  {
   "cell_type": "markdown",
   "metadata": {},
   "source": [
    "### 第二题：请提交代码，实现以下内容\n",
    "### 求1+2!+3!+4!+...+20!的和，并输出程序执行时间"
   ]
  },
  {
   "cell_type": "markdown",
   "metadata": {},
   "source": [
    "#### 非递归实现"
   ]
  },
  {
   "cell_type": "code",
   "execution_count": 31,
   "metadata": {
    "scrolled": true
   },
   "outputs": [
    {
     "name": "stdout",
     "output_type": "stream",
     "text": [
      "2561327494111820313\n",
      "用时(s): 0.00000000000000000000\n"
     ]
    }
   ],
   "source": [
    "'''求1+2!+3!+4!+...+20!的和，并输出程序执行时间'''\n",
    "## 循环实现\n",
    "import time\n",
    "t1 = time.time()\n",
    "def f(n):\n",
    "    ## _sum存求和的结果，_fac_n存数n的阶乘\n",
    "    _sum = 1\n",
    "    _fac_n = 1\n",
    "    for i in range(2, n+1):\n",
    "        _fac_n *=  i\n",
    "        _sum += _fac_n\n",
    "    return _sum\n",
    "t2 = time.time()\n",
    "print(f(20))\n",
    "print('用时(s): %.20f'%(t2-t1))"
   ]
  },
  {
   "cell_type": "markdown",
   "metadata": {},
   "source": [
    "#### 递归实现"
   ]
  },
  {
   "cell_type": "code",
   "execution_count": 32,
   "metadata": {
    "scrolled": true
   },
   "outputs": [
    {
     "name": "stdout",
     "output_type": "stream",
     "text": [
      "2561327494111820313\n",
      "用时(s)：0.00099730491638183594\n"
     ]
    }
   ],
   "source": [
    "import time\n",
    "def f(n):\n",
    "    if n==1:\n",
    "        return 1\n",
    "    else:\n",
    "        return(n*f(n-1))\n",
    "    \n",
    "s_time = time.time()\n",
    "s = 0\n",
    "for i in range(1,21):\n",
    "    s += f(i)\n",
    "print(s)\n",
    "print(\"用时(s)：%.20f\"%(time.time()-s_time))"
   ]
  },
  {
   "cell_type": "code",
   "execution_count": 1,
   "metadata": {},
   "outputs": [
    {
     "name": "stdout",
     "output_type": "stream",
     "text": [
      "拓扑排序结果：\n",
      "[5, 4, 2, 3, 0, 1]\n"
     ]
    }
   ],
   "source": [
    "#万圣节奶牛----拓扑排序\n",
    "from collections import defaultdict \n",
    "\n",
    "class Graph: \n",
    "    # 构造函数\n",
    "    def __init__(self,vertices): \n",
    "        # 创建用处存储图中点之间关系的dict{v: [u, i]}(v,u,i都是点,表示边<v, u>, <v, i>)：边集合\n",
    "        self.graph = defaultdict(list) \n",
    "        # 存储图中点的个数\n",
    "        self.V = vertices\n",
    "    # 添加边\n",
    "    def add_edge(self,u,v): \n",
    "        # 添加边<u, v>\n",
    "        self.graph[u].append(v) \n",
    "    # 获取一个存储图中所有点的状态:dict{key: Boolean}\n",
    "    # 初始时全为False\n",
    "    def set_keys_station(self):\n",
    "        keyStation = {}\n",
    "        key = list(self.graph.keys())\n",
    "        # 因为有些点，没有出边，所以在key中找不到，需要对图遍历找出没有出边的点\n",
    "        if len(key) < self.V:\n",
    "            for i in key:\n",
    "                for j in self.graph[i]:\n",
    "                    if j not in key:\n",
    "                        key.append(j)\n",
    "        for ele in key:\n",
    "            keyStation[ele] = False\n",
    "        return keyStation\n",
    "\n",
    "    # 拓扑排序\n",
    "    def topological_sort(self):\n",
    "        # 拓扑序列\n",
    "        queue = []\n",
    "        # 点状态字典\n",
    "        station = self.set_keys_station()\n",
    "        # 由于最坏情况下每一次循环都只能排序一个点，所以需要循环点的个数次\n",
    "        for i in range(self.V):\n",
    "            # 循环点状态字典，elem：点\n",
    "            for elem in station:\n",
    "                # 这里如果是已经排序好的点就不进行排序操作了\n",
    "                if not station[elem]:\n",
    "                    self.topological_sort_util(elem, queue, station)\n",
    "        return queue   \n",
    "    # 对于点进行排序     \n",
    "    def topological_sort_util(self, elem, queue, station):\n",
    "        # 设置点的状态为True，表示已经排序完成\n",
    "        station[elem] = True\n",
    "        # 循环查看该点是否有入边，如果存在入边，修改状态为False\n",
    "        # 状态为True的点，相当于排序完成，其的边集合不需要扫描\n",
    "        for i in station:\n",
    "            if elem in self.graph[i] and not station[i]:\n",
    "                station[elem] = False\n",
    "        # 如果没有入边，排序成功，添加到拓扑序列中\n",
    "        if station[elem]:\n",
    "            queue.append(elem)\n",
    "\n",
    "g= Graph(6) \n",
    "g.add_edge(5, 2); \n",
    "g.add_edge(5, 0); \n",
    "g.add_edge(4, 0); \n",
    "g.add_edge(4, 1); \n",
    "g.add_edge(2, 3); \n",
    "g.add_edge(3, 1); \n",
    "  \n",
    "print (\"拓扑排序结果：\")\n",
    "print(g.topological_sort())"
   ]
  },
  {
   "cell_type": "code",
   "execution_count": 1,
   "metadata": {},
   "outputs": [
    {
     "name": "stdout",
     "output_type": "stream",
     "text": [
      "5\n"
     ]
    }
   ],
   "source": [
    "f=lambda x:5\n",
    "print(f(3))"
   ]
  },
  {
   "cell_type": "code",
   "execution_count": null,
   "metadata": {},
   "outputs": [],
   "source": []
  }
 ],
 "metadata": {
  "kernelspec": {
   "display_name": "Python 3",
   "language": "python",
   "name": "python3"
  },
  "language_info": {
   "codemirror_mode": {
    "name": "ipython",
    "version": 3
   },
   "file_extension": ".py",
   "mimetype": "text/x-python",
   "name": "python",
   "nbconvert_exporter": "python",
   "pygments_lexer": "ipython3",
   "version": "3.7.4"
  }
 },
 "nbformat": 4,
 "nbformat_minor": 4
}
